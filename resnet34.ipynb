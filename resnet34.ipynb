{
 "cells": [
  {
   "cell_type": "code",
   "execution_count": null,
   "metadata": {
    "id": "DrZN9lJX8YsK"
   },
   "outputs": [],
   "source": [
    "!unzip /content/drive/MyDrive/combined_new.zip -d mendeley_leaf_data > /dev/null"
   ]
  },
  {
   "cell_type": "code",
   "execution_count": null,
   "metadata": {
    "id": "4hhsCwAihxxi"
   },
   "outputs": [],
   "source": [
    "!pip install efficientnet_pytorch neptune-client > /dev/null"
   ]
  },
  {
   "cell_type": "code",
   "execution_count": null,
   "metadata": {
    "id": "tQsvkWvjh8ap"
   },
   "outputs": [],
   "source": [
    "!pip install albumentations -U > /dev/null"
   ]
  },
  {
   "cell_type": "code",
   "execution_count": null,
   "metadata": {
    "id": "xgh6g191ewyT"
   },
   "outputs": [],
   "source": [
    "import torch\n",
    "import torchvision\n",
    "import torch.nn.functional as F\n",
    "import torch.nn as nn\n",
    "from torch.utils.data import Dataset, DataLoader, Subset\n",
    "from torch.optim.lr_scheduler import ReduceLROnPlateau\n",
    "from sklearn.metrics import accuracy_score, roc_auc_score\n",
    "from sklearn.model_selection import StratifiedKFold, GroupKFold, KFold\n",
    "import pandas as pd\n",
    "import numpy as np\n",
    "import gc\n",
    "import os\n",
    "import cv2\n",
    "import time\n",
    "import datetime\n",
    "import warnings\n",
    "import random\n",
    "import matplotlib.pyplot as plt\n",
    "import seaborn as sns\n",
    "import neptune\n",
    "from efficientnet_pytorch import EfficientNet\n",
    "import albumentations as A\n",
    "from albumentations.pytorch import ToTensorV2\n",
    "%matplotlib inline"
   ]
  },
  {
   "cell_type": "code",
   "execution_count": null,
   "metadata": {
    "colab": {
     "base_uri": "https://localhost:8080/"
    },
    "id": "KBSkQ9QlvwRJ",
    "outputId": "ac6caba2-b2be-4e44-f0c7-04a629f20d7b"
   },
   "outputs": [
    {
     "data": {
      "text/plain": [
       "Project(dalton/Cassa-Leaf)"
      ]
     },
     "execution_count": 7,
     "metadata": {
      "tags": []
     },
     "output_type": "execute_result"
    }
   ],
   "source": [
    "neptune.init(project_qualified_name='dalton/Cassa-Leaf')"
   ]
  },
  {
   "cell_type": "code",
   "execution_count": null,
   "metadata": {
    "id": "ey2cOn3ugXLG"
   },
   "outputs": [],
   "source": [
    "warnings.simplefilter('ignore')\n",
    "def seed_everything(seed):\n",
    "    random.seed(seed)\n",
    "    os.environ['PYTHONHASHSEED'] = str(seed)\n",
    "    np.random.seed(seed)\n",
    "    torch.manual_seed(seed)\n",
    "    torch.cuda.manual_seed(seed)\n",
    "    torch.backends.cudnn.deterministic = True\n",
    "    torch.backends.cudnn.benchmark = True\n",
    "\n",
    "seed_everything(47)\n",
    "\n",
    "device = torch.device(\"cuda\" if torch.cuda.is_available() else \"cpu\")"
   ]
  },
  {
   "cell_type": "code",
   "execution_count": null,
   "metadata": {
    "id": "1tRZ02Zpe2l-"
   },
   "outputs": [],
   "source": [
    "train_df = pd.read_csv('/content/drive/My Drive/combined_new.csv')\n",
    "train_df_kaggle = pd.read_csv('/content/drive/My Drive/cass_train.csv')"
   ]
  },
  {
   "cell_type": "code",
   "execution_count": null,
   "metadata": {
    "id": "1fN7zONjfSCE"
   },
   "outputs": [],
   "source": [
    "class LeafDataset(Dataset):\n",
    "    def __init__(self, df: pd.DataFrame, imfolder: str, train: bool = True, transforms = None):\n",
    "        \"\"\"\n",
    "        Class initialization\n",
    "        Args:\n",
    "            df (pd.DataFrame): DataFrame with data description\n",
    "            imfolder (str): folder with images\n",
    "            train (bool): flag of whether a training dataset is being initialized or testing one\n",
    "            transforms: image transformation method to be applied\n",
    "            \n",
    "        \"\"\"\n",
    "        self.df = df\n",
    "        self.imfolder = imfolder\n",
    "        self.transforms = transforms\n",
    "        self.train = train\n",
    "        \n",
    "    def __getitem__(self, index):\n",
    "        im_path = os.path.join(self.imfolder, self.df.iloc[index]['image_id'])\n",
    "        x = cv2.imread(im_path)\n",
    "        x = cv2.cvtColor(x, cv2.COLOR_BGR2RGB)\n",
    "\n",
    "        if self.transforms:\n",
    "            try:\n",
    "                x = self.transforms(image=x)['image']\n",
    "            except:\n",
    "                x = self.transforms(x)\n",
    "            \n",
    "        if self.train:\n",
    "            y = self.df.iloc[index]['label']\n",
    "            return x, y\n",
    "        else:\n",
    "            return x\n",
    "    \n",
    "    def __len__(self):\n",
    "        return len(self.df)\n",
    "    \n",
    "    \n",
    "class Net(nn.Module):\n",
    "    def __init__(self, arch, out_features):\n",
    "        super(Net, self).__init__()\n",
    "        self.arch = arch\n",
    "        if 'ResNet' in str(arch.__class__):\n",
    "            self.arch.fc = nn.Linear(in_features=self.arch.fc.in_features, out_features=out_features, bias=True)\n",
    "        if 'EfficientNet' in str(arch.__class__):\n",
    "            self.arch._fc = nn.Linear(in_features=self.arch._fc.in_features, out_features=out_features, bias=True)\n",
    "        \n",
    "    def forward(self, inputs):\n",
    "        return self.arch(inputs)"
   ]
  },
  {
   "cell_type": "code",
   "execution_count": null,
   "metadata": {
    "id": "u9xeNALOa_u3"
   },
   "outputs": [],
   "source": [
    "class LabelSmoothingLoss(nn.Module):\n",
    "    def __init__(self, classes, smoothing=0.0, dim=-1): \n",
    "        super(LabelSmoothingLoss, self).__init__() \n",
    "        self.confidence = 1.0 - smoothing \n",
    "        self.smoothing = smoothing \n",
    "        self.cls = classes \n",
    "        self.dim = dim \n",
    "        \n",
    "    def forward(self, pred, target): \n",
    "        pred = pred.log_softmax(dim=self.dim) \n",
    "        with torch.no_grad(): \n",
    "            true_dist = torch.zeros_like(pred) \n",
    "            true_dist.fill_(self.smoothing / (self.cls - 1)) \n",
    "            true_dist.scatter_(1, target.data.unsqueeze(1), self.confidence) \n",
    "        return torch.mean(torch.sum(-true_dist * pred, dim=self.dim))"
   ]
  },
  {
   "cell_type": "code",
   "execution_count": null,
   "metadata": {
    "id": "7wDgch34vk56"
   },
   "outputs": [],
   "source": [
    "train_transform = torchvision.transforms.Compose([\n",
    "    torchvision.transforms.ToPILImage(),\n",
    "    torchvision.transforms.Resize((512, 512)),\n",
    "    torchvision.transforms.RandomHorizontalFlip(),\n",
    "    torchvision.transforms.RandomVerticalFlip(),\n",
    "    torchvision.transforms.ToTensor(),\n",
    "    torchvision.transforms.Normalize(mean=[0.485, 0.456, 0.406],std=[0.229, 0.224, 0.225])\n",
    "])\n",
    "\n",
    "test_transform = torchvision.transforms.Compose([\n",
    "    torchvision.transforms.ToPILImage(),\n",
    "    torchvision.transforms.Resize((512, 512)),\n",
    "    torchvision.transforms.ToTensor(),\n",
    "    torchvision.transforms.Normalize(mean=[0.485, 0.456, 0.406],std=[0.229, 0.224, 0.225])\n",
    "])"
   ]
  },
  {
   "cell_type": "code",
   "execution_count": null,
   "metadata": {
    "id": "1VB2HnBYvoRR"
   },
   "outputs": [],
   "source": [
    "PARAMS = {\n",
    "    'architecture': 'resnet34',\n",
    "    'learning_rate': 0.0002,\n",
    "    'epochs': 25,\n",
    "    'es_patience': 5,\n",
    "    'folds': 4,\n",
    "    'random_state': 47,\n",
    "    'batch_size': 16,\n",
    "    'reduce_lr_factor': 0.1,\n",
    "    'label_smoothing': 0.1,\n",
    "    'fold_number': 1\n",
    "}"
   ]
  },
  {
   "cell_type": "code",
   "execution_count": null,
   "metadata": {},
   "outputs": [],
   "source": [
    "if 'resnet' in PARAMS['architecture'] or 'resnext' in PARAMS['architecture']:\n",
    "    arch = getattr(torchvision.models, PARAMS['architecture'])(pretrained=True)\n",
    "elif 'efficientnet' in PARAMS['architecture']:\n",
    "    arch = EfficientNet.from_pretrained(PARAMS['architecture'])\n",
    "\n",
    "data_folder = '/content/mendeley_leaf_data'\n",
    "train_losses = {i+1: [] for i in range(PARAMS['folds'])}\n",
    "train_accs = {i+1: [] for i in range(PARAMS['folds'])}\n",
    "val_accs = {i+1: [] for i in range(PARAMS['folds'])}"
   ]
  },
  {
   "cell_type": "code",
   "execution_count": null,
   "metadata": {},
   "outputs": [],
   "source": [
    "neptune.create_experiment(name='leaf', params=PARAMS)"
   ]
  },
  {
   "cell_type": "code",
   "execution_count": null,
   "metadata": {},
   "outputs": [],
   "source": [
    "oof = np.zeros((len(train_df_kaggle), 5))\n",
    "\n",
    "skf = StratifiedKFold(n_splits=PARAMS['folds'], shuffle=True, random_state=PARAMS['random_state'])\n",
    "for fold, (train_idx, val_idx) in enumerate(skf.split(X=np.zeros(len(train_df)), y=train_df['label']), 1):\n",
    "    if fold != PARAMS['fold_number']:\n",
    "        continue\n",
    "    val_idx = val_idx[val_idx < len(train_df_kaggle)]  # validating only on original data\n",
    "    print('=' * 20, 'Fold', fold, '=' * 20)\n",
    "    model_path = f'{PARAMS[\"architecture\"]}_fold_{fold}_denoise.pth'\n",
    "    best_val = 0  # Best validation score within this fold\n",
    "    patience = PARAMS['es_patience']  # Current patience counter\n",
    "\n",
    "    if 'resnet' in PARAMS['architecture'] or 'resnext' in PARAMS['architecture']:\n",
    "        arch = getattr(torchvision.models, PARAMS['architecture'])(pretrained=True)\n",
    "    elif 'efficientnet' in PARAMS['architecture']:\n",
    "        arch = EfficientNet.from_pretrained(PARAMS['architecture'])\n",
    "    model = Net(arch=arch, out_features=5)\n",
    "\n",
    "    model = model.to(device)\n",
    "    optim = torch.optim.Adam(model.parameters(), lr=PARAMS['learning_rate'])\n",
    "    scheduler = ReduceLROnPlateau(optimizer=optim, mode='max', patience=1, verbose=True, factor=PARAMS['reduce_lr_factor'])\n",
    "    criterion = LabelSmoothingLoss(classes=5, smoothing=PARAMS['label_smoothing']).to(device)\n",
    "    \n",
    "    train = LeafDataset(df=train_df.iloc[train_idx].reset_index(drop=True),\n",
    "                       imfolder=data_folder, \n",
    "                       train=True,\n",
    "                       transforms=train_transform)\n",
    "    val = LeafDataset(df=train_df.iloc[val_idx].reset_index(drop=True),\n",
    "                       imfolder=data_folder, \n",
    "                       train=True,\n",
    "                       transforms=test_transform)\n",
    "    \n",
    "    train_loader = DataLoader(dataset=train, batch_size=PARAMS['batch_size'], shuffle=True, num_workers=24)\n",
    "    val_loader = DataLoader(dataset=val, batch_size=8, shuffle=False, num_workers=24)\n",
    "    \n",
    "    for epoch in range(PARAMS['epochs']):\n",
    "        start_time = time.time()\n",
    "        correct = 0\n",
    "        epoch_loss = 0\n",
    "        model.train()\n",
    "        \n",
    "        for x, y in train_loader:\n",
    "            x = torch.tensor(x, device=device, dtype=torch.float32)\n",
    "            y = torch.tensor(y, device=device, dtype=torch.long)\n",
    "            optim.zero_grad()\n",
    "            z = model(x)\n",
    "            loss = criterion(z, y)\n",
    "            loss.backward()\n",
    "            optim.step()\n",
    "            pred = torch.argmax(z, axis=1)\n",
    "            correct += (pred.cpu() == y.cpu()).sum().item()\n",
    "            epoch_loss += loss.item()\n",
    "        train_acc = correct / len(train_idx)  # Train accuracy\n",
    "        \n",
    "        model.eval()  # switch model to the evaluation mode\n",
    "        val_preds = torch.zeros((len(val_idx), 1), dtype=torch.long, device=device)\n",
    "        with torch.no_grad():  # Do not calculate gradient since we are only predicting\n",
    "            for j, (x_val, y_val) in enumerate(val_loader):\n",
    "                x_val = torch.tensor(x_val, device=device, dtype=torch.float32)\n",
    "                y_val = torch.tensor(y_val, device=device, dtype=torch.long)\n",
    "                z_val = model(x_val)\n",
    "                val_pred = torch.argmax(z_val, axis=1)\n",
    "                val_preds[j*val_loader.batch_size:j*val_loader.batch_size + x_val.shape[0]] = val_pred.reshape(-1, 1)\n",
    "            val_acc = accuracy_score(train_df.iloc[val_idx]['label'].values, val_preds.cpu())\n",
    "            train_time = str(datetime.timedelta(seconds=time.time() - start_time))[:7]\n",
    "            train_losses[fold].append(epoch_loss)\n",
    "            train_accs[fold].append(train_acc)\n",
    "            val_accs[fold].append(val_acc)\n",
    "            print(f'[{train_time}] | Epoch: {epoch+1:03} | Loss: {epoch_loss:.4f} | Train acc: {train_acc:.4f} | Val acc: {val_acc:.4f}')\n",
    "            scheduler.step(val_acc)\n",
    "            \n",
    "            if val_acc >= best_val:\n",
    "                best_val= val_acc\n",
    "                patience = PARAMS['es_patience']\n",
    "                torch.save(model, model_path)\n",
    "            else:\n",
    "                patience -= 1\n",
    "                if patience == 0:\n",
    "                    print(f'Early stopping. Best Val accuracy: {best_val:.4f}')\n",
    "                    break\n",
    "\n",
    "    model = torch.load(model_path)\n",
    "    model.eval()\n",
    "    val_preds = torch.zeros((len(val_idx), 5), dtype=torch.float32, device=device)\n",
    "    with torch.no_grad():\n",
    "        for j, (x_val, y_val) in enumerate(val_loader):\n",
    "            x_val = torch.tensor(x_val, device=device, dtype=torch.float32)\n",
    "            y_val = torch.tensor(y_val, device=device, dtype=torch.long)\n",
    "            z_val = model(x_val)\n",
    "            val_pred = torch.softmax(z_val, axis=1)\n",
    "            val_preds[j*val_loader.batch_size:j*val_loader.batch_size + x_val.shape[0]] += val_pred\n",
    "        oof[val_idx] += val_preds.cpu().numpy()"
   ]
  },
  {
   "cell_type": "code",
   "execution_count": null,
   "metadata": {
    "id": "Qk3FRZQGQhHE"
   },
   "outputs": [],
   "source": [
    "pd.DataFrame(oof).to_csv(f'oof_{PARAMS[\"fold_number\"]}.csv', index=False)"
   ]
  },
  {
   "cell_type": "code",
   "execution_count": null,
   "metadata": {
    "id": "wqLGdvoKFAnG"
   },
   "outputs": [],
   "source": [
    "neptune.log_metric('Train Acc', train_acc)\n",
    "neptune.log_metric('Validation Acc', best_val)\n",
    "neptune.log_artifact(model_path)\n",
    "neptune.log_artifact(f'oof_{PARAMS[\"fold_number\"]}.csv')"
   ]
  },
  {
   "cell_type": "code",
   "execution_count": null,
   "metadata": {},
   "outputs": [],
   "source": [
    "fig, axes = plt.subplots(1, 1, figsize=(14, 6))\n",
    "axes.plot(train_losses[PARAMS['fold_number']], '--', label='Train loss', color='tab:blue')\n",
    "axes.grid();\n",
    "axes.legend(fontsize=12, facecolor='white', loc=7);\n",
    "axes.set_title(f'{PARAMS[\"architecture\"]}, Fold {PARAMS[\"fold_number\"]}/{PARAMS[\"folds\"]}', fontsize=16);\n",
    "axes.set_ylabel('Loss', fontsize=14);\n",
    "axes.set_xlabel('Epoch', fontsize=14);\n",
    "max_ticks = max(len(train_losses[PARAMS['fold_number']]), len(train_accs[PARAMS['fold_number']]), len(val_accs[PARAMS['fold_number']]))\n",
    "axes.set_xticks(range(max_ticks));\n",
    "axes.set_xticklabels(range(1, max_ticks+1));\n",
    "axes2 = axes.twinx()\n",
    "axes2.plot(np.array(val_accs[PARAMS['fold_number']]).argmax(), max(val_accs[PARAMS['fold_number']]), marker='o', markersize=12, color='tab:red')\n",
    "axes2.plot(train_accs[PARAMS['fold_number']], label='Train accuracy', color='tab:orange')\n",
    "axes2.plot(val_accs[PARAMS['fold_number']], label='Validation accuracy', color='tab:red')\n",
    "axes2.legend(fontsize=12, facecolor='white');\n",
    "axes2.set_ylabel('Accuracy', fontsize=14);\n",
    "fig.savefig(f'{PARAMS[\"architecture\"]}, Fold {PARAMS[\"fold_number\"]}_loss_curv.png')\n",
    "neptune.send_image('loss_curve', f'{PARAMS[\"architecture\"]}, Fold {PARAMS[\"fold_number\"]}_loss_curv.png')"
   ]
  },
  {
   "cell_type": "code",
   "execution_count": null,
   "metadata": {
    "id": "wc_IPfzxD60N"
   },
   "outputs": [],
   "source": [
    "import re\n",
    "import json\n",
    "import requests\n",
    "import ipykernel\n",
    "from notebook.notebookapp import list_running_servers\n",
    "from requests.compat import urljoin\n",
    "\n",
    "def get_notebook_name():\n",
    "    \"\"\"\n",
    "    Return the full path of the jupyter notebook.\n",
    "    \"\"\"\n",
    "    kernel_id = re.search('kernel-(.*).json', ipykernel.connect.get_connection_file()).group(1)\n",
    "    servers = list_running_servers()\n",
    "    for ss in servers:\n",
    "        response = requests.get(urljoin(ss['url'], 'api/sessions'), params={'token': ss.get('token', '')})\n",
    "        for nn in response.json():\n",
    "            if nn['kernel']['id'] == kernel_id:\n",
    "                notebook_name = nn['notebook']['name']\n",
    "                return notebook_name"
   ]
  },
  {
   "cell_type": "code",
   "execution_count": null,
   "metadata": {
    "id": "pZs8hkRuvcMk"
   },
   "outputs": [],
   "source": [
    "neptune.log_artifact(f'/content/drive/My Drive/Colab Notebooks/{get_notebook_name()}')\n",
    "neptune.stop()"
   ]
  }
 ],
 "metadata": {
  "accelerator": "GPU",
  "colab": {
   "collapsed_sections": [],
   "name": "label_smoothing_3.ipynb",
   "provenance": []
  },
  "kernelspec": {
   "display_name": "Python 3",
   "language": "python",
   "name": "python3"
  },
  "language_info": {
   "codemirror_mode": {
    "name": "ipython",
    "version": 3
   },
   "file_extension": ".py",
   "mimetype": "text/x-python",
   "name": "python",
   "nbconvert_exporter": "python",
   "pygments_lexer": "ipython3",
   "version": "3.6.5"
  },
  "widgets": {
   "application/vnd.jupyter.widget-state+json": {
    "012566034ff44615a68aad6ba369a446": {
     "model_module": "@jupyter-widgets/base",
     "model_name": "LayoutModel",
     "state": {
      "_model_module": "@jupyter-widgets/base",
      "_model_module_version": "1.2.0",
      "_model_name": "LayoutModel",
      "_view_count": null,
      "_view_module": "@jupyter-widgets/base",
      "_view_module_version": "1.2.0",
      "_view_name": "LayoutView",
      "align_content": null,
      "align_items": null,
      "align_self": null,
      "border": null,
      "bottom": null,
      "display": null,
      "flex": null,
      "flex_flow": null,
      "grid_area": null,
      "grid_auto_columns": null,
      "grid_auto_flow": null,
      "grid_auto_rows": null,
      "grid_column": null,
      "grid_gap": null,
      "grid_row": null,
      "grid_template_areas": null,
      "grid_template_columns": null,
      "grid_template_rows": null,
      "height": null,
      "justify_content": null,
      "justify_items": null,
      "left": null,
      "margin": null,
      "max_height": null,
      "max_width": null,
      "min_height": null,
      "min_width": null,
      "object_fit": null,
      "object_position": null,
      "order": null,
      "overflow": null,
      "overflow_x": null,
      "overflow_y": null,
      "padding": null,
      "right": null,
      "top": null,
      "visibility": null,
      "width": null
     }
    },
    "0a9a24b969c54f1493a02bcba03daa32": {
     "model_module": "@jupyter-widgets/controls",
     "model_name": "FloatProgressModel",
     "state": {
      "_dom_classes": [],
      "_model_module": "@jupyter-widgets/controls",
      "_model_module_version": "1.5.0",
      "_model_name": "FloatProgressModel",
      "_view_count": null,
      "_view_module": "@jupyter-widgets/controls",
      "_view_module_version": "1.5.0",
      "_view_name": "ProgressView",
      "bar_style": "success",
      "description": "100%",
      "description_tooltip": null,
      "layout": "IPY_MODEL_0ee24cf252484d47aa843908376a360c",
      "max": 49388949,
      "min": 0,
      "orientation": "horizontal",
      "style": "IPY_MODEL_b263d8637c444fe7846654970bfbeb3d",
      "value": 49388949
     }
    },
    "0ee24cf252484d47aa843908376a360c": {
     "model_module": "@jupyter-widgets/base",
     "model_name": "LayoutModel",
     "state": {
      "_model_module": "@jupyter-widgets/base",
      "_model_module_version": "1.2.0",
      "_model_name": "LayoutModel",
      "_view_count": null,
      "_view_module": "@jupyter-widgets/base",
      "_view_module_version": "1.2.0",
      "_view_name": "LayoutView",
      "align_content": null,
      "align_items": null,
      "align_self": null,
      "border": null,
      "bottom": null,
      "display": null,
      "flex": null,
      "flex_flow": null,
      "grid_area": null,
      "grid_auto_columns": null,
      "grid_auto_flow": null,
      "grid_auto_rows": null,
      "grid_column": null,
      "grid_gap": null,
      "grid_row": null,
      "grid_template_areas": null,
      "grid_template_columns": null,
      "grid_template_rows": null,
      "height": null,
      "justify_content": null,
      "justify_items": null,
      "left": null,
      "margin": null,
      "max_height": null,
      "max_width": null,
      "min_height": null,
      "min_width": null,
      "object_fit": null,
      "object_position": null,
      "order": null,
      "overflow": null,
      "overflow_x": null,
      "overflow_y": null,
      "padding": null,
      "right": null,
      "top": null,
      "visibility": null,
      "width": null
     }
    },
    "5e54bbdcbae34f238c241fc53f7fb1ef": {
     "model_module": "@jupyter-widgets/controls",
     "model_name": "DescriptionStyleModel",
     "state": {
      "_model_module": "@jupyter-widgets/controls",
      "_model_module_version": "1.5.0",
      "_model_name": "DescriptionStyleModel",
      "_view_count": null,
      "_view_module": "@jupyter-widgets/base",
      "_view_module_version": "1.2.0",
      "_view_name": "StyleView",
      "description_width": ""
     }
    },
    "727f6bb2164147eca3b745e820b38f9f": {
     "model_module": "@jupyter-widgets/controls",
     "model_name": "HBoxModel",
     "state": {
      "_dom_classes": [],
      "_model_module": "@jupyter-widgets/controls",
      "_model_module_version": "1.5.0",
      "_model_name": "HBoxModel",
      "_view_count": null,
      "_view_module": "@jupyter-widgets/controls",
      "_view_module_version": "1.5.0",
      "_view_name": "HBoxView",
      "box_style": "",
      "children": [
       "IPY_MODEL_0a9a24b969c54f1493a02bcba03daa32",
       "IPY_MODEL_76721a804a57499ca19c57eddcbc9ed4"
      ],
      "layout": "IPY_MODEL_012566034ff44615a68aad6ba369a446"
     }
    },
    "76721a804a57499ca19c57eddcbc9ed4": {
     "model_module": "@jupyter-widgets/controls",
     "model_name": "HTMLModel",
     "state": {
      "_dom_classes": [],
      "_model_module": "@jupyter-widgets/controls",
      "_model_module_version": "1.5.0",
      "_model_name": "HTMLModel",
      "_view_count": null,
      "_view_module": "@jupyter-widgets/controls",
      "_view_module_version": "1.5.0",
      "_view_name": "HTMLView",
      "description": "",
      "description_tooltip": null,
      "layout": "IPY_MODEL_90179037e1944c498b272119eb711ac1",
      "placeholder": "​",
      "style": "IPY_MODEL_5e54bbdcbae34f238c241fc53f7fb1ef",
      "value": " 47.1M/47.1M [00:04&lt;00:00, 12.0MB/s]"
     }
    },
    "90179037e1944c498b272119eb711ac1": {
     "model_module": "@jupyter-widgets/base",
     "model_name": "LayoutModel",
     "state": {
      "_model_module": "@jupyter-widgets/base",
      "_model_module_version": "1.2.0",
      "_model_name": "LayoutModel",
      "_view_count": null,
      "_view_module": "@jupyter-widgets/base",
      "_view_module_version": "1.2.0",
      "_view_name": "LayoutView",
      "align_content": null,
      "align_items": null,
      "align_self": null,
      "border": null,
      "bottom": null,
      "display": null,
      "flex": null,
      "flex_flow": null,
      "grid_area": null,
      "grid_auto_columns": null,
      "grid_auto_flow": null,
      "grid_auto_rows": null,
      "grid_column": null,
      "grid_gap": null,
      "grid_row": null,
      "grid_template_areas": null,
      "grid_template_columns": null,
      "grid_template_rows": null,
      "height": null,
      "justify_content": null,
      "justify_items": null,
      "left": null,
      "margin": null,
      "max_height": null,
      "max_width": null,
      "min_height": null,
      "min_width": null,
      "object_fit": null,
      "object_position": null,
      "order": null,
      "overflow": null,
      "overflow_x": null,
      "overflow_y": null,
      "padding": null,
      "right": null,
      "top": null,
      "visibility": null,
      "width": null
     }
    },
    "b263d8637c444fe7846654970bfbeb3d": {
     "model_module": "@jupyter-widgets/controls",
     "model_name": "ProgressStyleModel",
     "state": {
      "_model_module": "@jupyter-widgets/controls",
      "_model_module_version": "1.5.0",
      "_model_name": "ProgressStyleModel",
      "_view_count": null,
      "_view_module": "@jupyter-widgets/base",
      "_view_module_version": "1.2.0",
      "_view_name": "StyleView",
      "bar_color": null,
      "description_width": "initial"
     }
    }
   }
  }
 },
 "nbformat": 4,
 "nbformat_minor": 1
}
