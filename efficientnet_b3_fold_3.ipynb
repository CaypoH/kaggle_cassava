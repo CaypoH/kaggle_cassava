{
  "nbformat": 4,
  "nbformat_minor": 0,
  "metadata": {
    "accelerator": "GPU",
    "colab": {
      "name": "efficientnet-b3_fold-3.ipynb",
      "provenance": [],
      "collapsed_sections": []
    },
    "kernelspec": {
      "display_name": "Python 3",
      "name": "python3"
    },
    "widgets": {
      "application/vnd.jupyter.widget-state+json": {
        "727f6bb2164147eca3b745e820b38f9f": {
          "model_module": "@jupyter-widgets/controls",
          "model_name": "HBoxModel",
          "state": {
            "_view_name": "HBoxView",
            "_dom_classes": [],
            "_model_name": "HBoxModel",
            "_view_module": "@jupyter-widgets/controls",
            "_model_module_version": "1.5.0",
            "_view_count": null,
            "_view_module_version": "1.5.0",
            "box_style": "",
            "layout": "IPY_MODEL_012566034ff44615a68aad6ba369a446",
            "_model_module": "@jupyter-widgets/controls",
            "children": [
              "IPY_MODEL_0a9a24b969c54f1493a02bcba03daa32",
              "IPY_MODEL_76721a804a57499ca19c57eddcbc9ed4"
            ]
          }
        },
        "012566034ff44615a68aad6ba369a446": {
          "model_module": "@jupyter-widgets/base",
          "model_name": "LayoutModel",
          "state": {
            "_view_name": "LayoutView",
            "grid_template_rows": null,
            "right": null,
            "justify_content": null,
            "_view_module": "@jupyter-widgets/base",
            "overflow": null,
            "_model_module_version": "1.2.0",
            "_view_count": null,
            "flex_flow": null,
            "width": null,
            "min_width": null,
            "border": null,
            "align_items": null,
            "bottom": null,
            "_model_module": "@jupyter-widgets/base",
            "top": null,
            "grid_column": null,
            "overflow_y": null,
            "overflow_x": null,
            "grid_auto_flow": null,
            "grid_area": null,
            "grid_template_columns": null,
            "flex": null,
            "_model_name": "LayoutModel",
            "justify_items": null,
            "grid_row": null,
            "max_height": null,
            "align_content": null,
            "visibility": null,
            "align_self": null,
            "height": null,
            "min_height": null,
            "padding": null,
            "grid_auto_rows": null,
            "grid_gap": null,
            "max_width": null,
            "order": null,
            "_view_module_version": "1.2.0",
            "grid_template_areas": null,
            "object_position": null,
            "object_fit": null,
            "grid_auto_columns": null,
            "margin": null,
            "display": null,
            "left": null
          }
        },
        "0a9a24b969c54f1493a02bcba03daa32": {
          "model_module": "@jupyter-widgets/controls",
          "model_name": "FloatProgressModel",
          "state": {
            "_view_name": "ProgressView",
            "style": "IPY_MODEL_b263d8637c444fe7846654970bfbeb3d",
            "_dom_classes": [],
            "description": "100%",
            "_model_name": "FloatProgressModel",
            "bar_style": "success",
            "max": 49388949,
            "_view_module": "@jupyter-widgets/controls",
            "_model_module_version": "1.5.0",
            "value": 49388949,
            "_view_count": null,
            "_view_module_version": "1.5.0",
            "orientation": "horizontal",
            "min": 0,
            "description_tooltip": null,
            "_model_module": "@jupyter-widgets/controls",
            "layout": "IPY_MODEL_0ee24cf252484d47aa843908376a360c"
          }
        },
        "76721a804a57499ca19c57eddcbc9ed4": {
          "model_module": "@jupyter-widgets/controls",
          "model_name": "HTMLModel",
          "state": {
            "_view_name": "HTMLView",
            "style": "IPY_MODEL_5e54bbdcbae34f238c241fc53f7fb1ef",
            "_dom_classes": [],
            "description": "",
            "_model_name": "HTMLModel",
            "placeholder": "​",
            "_view_module": "@jupyter-widgets/controls",
            "_model_module_version": "1.5.0",
            "value": " 47.1M/47.1M [00:04&lt;00:00, 12.0MB/s]",
            "_view_count": null,
            "_view_module_version": "1.5.0",
            "description_tooltip": null,
            "_model_module": "@jupyter-widgets/controls",
            "layout": "IPY_MODEL_90179037e1944c498b272119eb711ac1"
          }
        },
        "b263d8637c444fe7846654970bfbeb3d": {
          "model_module": "@jupyter-widgets/controls",
          "model_name": "ProgressStyleModel",
          "state": {
            "_view_name": "StyleView",
            "_model_name": "ProgressStyleModel",
            "description_width": "initial",
            "_view_module": "@jupyter-widgets/base",
            "_model_module_version": "1.5.0",
            "_view_count": null,
            "_view_module_version": "1.2.0",
            "bar_color": null,
            "_model_module": "@jupyter-widgets/controls"
          }
        },
        "0ee24cf252484d47aa843908376a360c": {
          "model_module": "@jupyter-widgets/base",
          "model_name": "LayoutModel",
          "state": {
            "_view_name": "LayoutView",
            "grid_template_rows": null,
            "right": null,
            "justify_content": null,
            "_view_module": "@jupyter-widgets/base",
            "overflow": null,
            "_model_module_version": "1.2.0",
            "_view_count": null,
            "flex_flow": null,
            "width": null,
            "min_width": null,
            "border": null,
            "align_items": null,
            "bottom": null,
            "_model_module": "@jupyter-widgets/base",
            "top": null,
            "grid_column": null,
            "overflow_y": null,
            "overflow_x": null,
            "grid_auto_flow": null,
            "grid_area": null,
            "grid_template_columns": null,
            "flex": null,
            "_model_name": "LayoutModel",
            "justify_items": null,
            "grid_row": null,
            "max_height": null,
            "align_content": null,
            "visibility": null,
            "align_self": null,
            "height": null,
            "min_height": null,
            "padding": null,
            "grid_auto_rows": null,
            "grid_gap": null,
            "max_width": null,
            "order": null,
            "_view_module_version": "1.2.0",
            "grid_template_areas": null,
            "object_position": null,
            "object_fit": null,
            "grid_auto_columns": null,
            "margin": null,
            "display": null,
            "left": null
          }
        },
        "5e54bbdcbae34f238c241fc53f7fb1ef": {
          "model_module": "@jupyter-widgets/controls",
          "model_name": "DescriptionStyleModel",
          "state": {
            "_view_name": "StyleView",
            "_model_name": "DescriptionStyleModel",
            "description_width": "",
            "_view_module": "@jupyter-widgets/base",
            "_model_module_version": "1.5.0",
            "_view_count": null,
            "_view_module_version": "1.2.0",
            "_model_module": "@jupyter-widgets/controls"
          }
        },
        "90179037e1944c498b272119eb711ac1": {
          "model_module": "@jupyter-widgets/base",
          "model_name": "LayoutModel",
          "state": {
            "_view_name": "LayoutView",
            "grid_template_rows": null,
            "right": null,
            "justify_content": null,
            "_view_module": "@jupyter-widgets/base",
            "overflow": null,
            "_model_module_version": "1.2.0",
            "_view_count": null,
            "flex_flow": null,
            "width": null,
            "min_width": null,
            "border": null,
            "align_items": null,
            "bottom": null,
            "_model_module": "@jupyter-widgets/base",
            "top": null,
            "grid_column": null,
            "overflow_y": null,
            "overflow_x": null,
            "grid_auto_flow": null,
            "grid_area": null,
            "grid_template_columns": null,
            "flex": null,
            "_model_name": "LayoutModel",
            "justify_items": null,
            "grid_row": null,
            "max_height": null,
            "align_content": null,
            "visibility": null,
            "align_self": null,
            "height": null,
            "min_height": null,
            "padding": null,
            "grid_auto_rows": null,
            "grid_gap": null,
            "max_width": null,
            "order": null,
            "_view_module_version": "1.2.0",
            "grid_template_areas": null,
            "object_position": null,
            "object_fit": null,
            "grid_auto_columns": null,
            "margin": null,
            "display": null,
            "left": null
          }
        }
      }
    }
  },
  "cells": [
    {
      "cell_type": "code",
      "metadata": {
        "id": "DrZN9lJX8YsK"
      },
      "source": [
        "!unzip /content/drive/MyDrive/combined_new.zip -d mendeley_leaf_data > /dev/null"
      ],
      "execution_count": null,
      "outputs": []
    },
    {
      "cell_type": "code",
      "metadata": {
        "id": "4hhsCwAihxxi"
      },
      "source": [
        "!pip install efficientnet_pytorch neptune-client > /dev/null"
      ],
      "execution_count": null,
      "outputs": []
    },
    {
      "cell_type": "code",
      "metadata": {
        "id": "tQsvkWvjh8ap"
      },
      "source": [
        "!pip install albumentations -U > /dev/null"
      ],
      "execution_count": null,
      "outputs": []
    },
    {
      "cell_type": "code",
      "metadata": {
        "id": "xgh6g191ewyT"
      },
      "source": [
        "import torch\n",
        "import torchvision\n",
        "import torch.nn.functional as F\n",
        "import torch.nn as nn\n",
        "from torch.utils.data import Dataset, DataLoader, Subset\n",
        "from torch.optim.lr_scheduler import ReduceLROnPlateau\n",
        "from sklearn.metrics import accuracy_score, roc_auc_score\n",
        "from sklearn.model_selection import StratifiedKFold, GroupKFold, KFold\n",
        "import pandas as pd\n",
        "import numpy as np\n",
        "import gc\n",
        "import os\n",
        "import cv2\n",
        "import time\n",
        "import datetime\n",
        "import warnings\n",
        "import random\n",
        "import matplotlib.pyplot as plt\n",
        "import seaborn as sns\n",
        "import neptune\n",
        "from efficientnet_pytorch import EfficientNet\n",
        "import albumentations as A\n",
        "from albumentations.pytorch import ToTensorV2\n",
        "%matplotlib inline"
      ],
      "execution_count": null,
      "outputs": []
    },
    {
      "cell_type": "code",
      "metadata": {
        "id": "KBSkQ9QlvwRJ",
        "colab": {
          "base_uri": "https://localhost:8080/"
        },
        "outputId": "ac6caba2-b2be-4e44-f0c7-04a629f20d7b"
      },
      "source": [
        "neptune.init(project_qualified_name='dalton/Cassa-Leaf')"
      ],
      "execution_count": null,
      "outputs": [
        {
          "output_type": "execute_result",
          "data": {
            "text/plain": [
              "Project(dalton/Cassa-Leaf)"
            ]
          },
          "metadata": {
            "tags": []
          },
          "execution_count": 7
        }
      ]
    },
    {
      "cell_type": "code",
      "metadata": {
        "id": "ey2cOn3ugXLG"
      },
      "source": [
        "warnings.simplefilter('ignore')\n",
        "def seed_everything(seed):\n",
        "    random.seed(seed)\n",
        "    os.environ['PYTHONHASHSEED'] = str(seed)\n",
        "    np.random.seed(seed)\n",
        "    torch.manual_seed(seed)\n",
        "    torch.cuda.manual_seed(seed)\n",
        "    torch.backends.cudnn.deterministic = True\n",
        "    torch.backends.cudnn.benchmark = True\n",
        "\n",
        "seed_everything(47)\n",
        "\n",
        "device = torch.device(\"cuda\" if torch.cuda.is_available() else \"cpu\")"
      ],
      "execution_count": null,
      "outputs": []
    },
    {
      "cell_type": "code",
      "metadata": {
        "id": "1tRZ02Zpe2l-"
      },
      "source": [
        "train_df = pd.read_csv('/content/drive/My Drive/combined_new.csv')\n",
        "train_df_kaggle = pd.read_csv('/content/drive/My Drive/cass_train.csv')"
      ],
      "execution_count": null,
      "outputs": []
    },
    {
      "cell_type": "code",
      "metadata": {
        "id": "1fN7zONjfSCE"
      },
      "source": [
        "class LeafDataset(Dataset):\n",
        "    def __init__(self, df: pd.DataFrame, imfolder: str, train: bool = True, transforms = None):\n",
        "        \"\"\"\n",
        "        Class initialization\n",
        "        Args:\n",
        "            df (pd.DataFrame): DataFrame with data description\n",
        "            imfolder (str): folder with images\n",
        "            train (bool): flag of whether a training dataset is being initialized or testing one\n",
        "            transforms: image transformation method to be applied\n",
        "            \n",
        "        \"\"\"\n",
        "        self.df = df\n",
        "        self.imfolder = imfolder\n",
        "        self.transforms = transforms\n",
        "        self.train = train\n",
        "        \n",
        "    def __getitem__(self, index):\n",
        "        im_path = os.path.join(self.imfolder, self.df.iloc[index]['image_id'])\n",
        "        x = cv2.imread(im_path)\n",
        "        x = cv2.cvtColor(x, cv2.COLOR_BGR2RGB)\n",
        "\n",
        "        if self.transforms:\n",
        "            try:\n",
        "                x = self.transforms(image=x)['image']\n",
        "            except:\n",
        "                x = self.transforms(x)\n",
        "            \n",
        "        if self.train:\n",
        "            y = self.df.iloc[index]['label']\n",
        "            return x, y\n",
        "        else:\n",
        "            return x\n",
        "    \n",
        "    def __len__(self):\n",
        "        return len(self.df)\n",
        "    \n",
        "    \n",
        "class Net(nn.Module):\n",
        "    def __init__(self, arch, out_features):\n",
        "        super(Net, self).__init__()\n",
        "        self.arch = arch\n",
        "        if 'ResNet' in str(arch.__class__):\n",
        "            self.arch.fc = nn.Linear(in_features=self.arch.fc.in_features, out_features=out_features, bias=True)\n",
        "        if 'EfficientNet' in str(arch.__class__):\n",
        "            self.arch._fc = nn.Linear(in_features=self.arch._fc.in_features, out_features=out_features, bias=True)\n",
        "        \n",
        "    def forward(self, inputs):\n",
        "        return self.arch(inputs)"
      ],
      "execution_count": null,
      "outputs": []
    },
    {
      "cell_type": "code",
      "metadata": {
        "id": "7wDgch34vk56"
      },
      "source": [
        "train_transform = A.Compose([\n",
        "    A.Resize(512, 512),\n",
        "    A.RandomResizedCrop(512, 512),\n",
        "    A.Transpose(p=0.5),\n",
        "    A.HorizontalFlip(),\n",
        "    A.VerticalFlip(),\n",
        "    A.Cutout(p=1, num_holes=16, max_h_size=24, max_w_size=24),\n",
        "    A.Normalize(mean=[0.485, 0.456, 0.406],std=[0.229, 0.224, 0.225]),\n",
        "    ToTensorV2()\n",
        "])\n",
        "\n",
        "test_transform = A.Compose([\n",
        "    A.Resize(512, 512),\n",
        "    A.Normalize(mean=[0.485, 0.456, 0.406],std=[0.229, 0.224, 0.225]),\n",
        "    ToTensorV2()\n",
        "])"
      ],
      "execution_count": null,
      "outputs": []
    },
    {
      "cell_type": "code",
      "metadata": {
        "id": "1VB2HnBYvoRR"
      },
      "source": [
        "PARAMS = {\n",
        "    'architecture': 'efficientnet-b3',\n",
        "    'learning_rate': 0.0002,\n",
        "    'epochs': 25,\n",
        "    'es_patience': 5,\n",
        "    'folds': 4,\n",
        "    'random_state': 47,\n",
        "    'batch_size': 8,\n",
        "    'reduce_lr_factor': 0.1,\n",
        "    'label_smoothing': 0.1,\n",
        "    'fold_number': 3\n",
        "}"
      ],
      "execution_count": null,
      "outputs": []
    },
    {
      "cell_type": "code",
      "metadata": {
        "id": "5fPAoQ09JByH",
        "colab": {
          "base_uri": "https://localhost:8080/",
          "height": 100,
          "referenced_widgets": [
            "727f6bb2164147eca3b745e820b38f9f",
            "012566034ff44615a68aad6ba369a446",
            "0a9a24b969c54f1493a02bcba03daa32",
            "76721a804a57499ca19c57eddcbc9ed4",
            "b263d8637c444fe7846654970bfbeb3d",
            "0ee24cf252484d47aa843908376a360c",
            "5e54bbdcbae34f238c241fc53f7fb1ef",
            "90179037e1944c498b272119eb711ac1"
          ]
        },
        "outputId": "c16cc83b-00e9-42cb-e1a5-15d3633a88c9"
      },
      "source": [
        "if 'resnet' in PARAMS['architecture'] or 'resnext' in PARAMS['architecture']:\n",
        "    arch = getattr(torchvision.models, PARAMS['architecture'])(pretrained=True)\n",
        "elif 'efficientnet' in PARAMS['architecture']:\n",
        "    arch = EfficientNet.from_pretrained(PARAMS['architecture'])\n",
        "  \n",
        "data_folder = '/content/mendeley_leaf_data'\n",
        "train_losses = {i+1: [] for i in range(PARAMS['folds'])}\n",
        "train_accs = {i+1: [] for i in range(PARAMS['folds'])}\n",
        "val_accs = {i+1: [] for i in range(PARAMS['folds'])}"
      ],
      "execution_count": null,
      "outputs": [
        {
          "output_type": "stream",
          "text": [
            "Downloading: \"https://github.com/lukemelas/EfficientNet-PyTorch/releases/download/1.0/efficientnet-b3-5fb5a3c3.pth\" to /root/.cache/torch/hub/checkpoints/efficientnet-b3-5fb5a3c3.pth\n"
          ],
          "name": "stderr"
        },
        {
          "output_type": "display_data",
          "data": {
            "application/vnd.jupyter.widget-view+json": {
              "model_id": "727f6bb2164147eca3b745e820b38f9f",
              "version_minor": 0,
              "version_major": 2
            },
            "text/plain": [
              "HBox(children=(FloatProgress(value=0.0, max=49388949.0), HTML(value='')))"
            ]
          },
          "metadata": {
            "tags": []
          }
        },
        {
          "output_type": "stream",
          "text": [
            "\n",
            "Loaded pretrained weights for efficientnet-b3\n"
          ],
          "name": "stdout"
        }
      ]
    },
    {
      "cell_type": "code",
      "metadata": {
        "id": "78-9aU7pA_D0"
      },
      "source": [
        "neptune.create_experiment(name='leaf', params=PARAMS)"
      ],
      "execution_count": null,
      "outputs": []
    },
    {
      "cell_type": "code",
      "metadata": {
        "id": "CiC_lWl870cq",
        "colab": {
          "base_uri": "https://localhost:8080/"
        },
        "outputId": "e1e435f3-a1e1-46dd-e9e1-da4021a86773"
      },
      "source": [
        "oof = np.zeros((len(train_df_kaggle), 5))\n",
        "\n",
        "skf = StratifiedKFold(n_splits=PARAMS['folds'], shuffle=True, random_state=PARAMS['random_state'])\n",
        "for fold, (train_idx, val_idx) in enumerate(skf.split(X=np.zeros(len(train_df)), y=train_df['label']), 1):\n",
        "    if fold != PARAMS['fold_number']:\n",
        "        continue\n",
        "    val_idx = val_idx[val_idx < len(train_df_kaggle)]  # validating only on original data\n",
        "    print('=' * 20, 'Fold', fold, '=' * 20)\n",
        "    model_path = f'{PARAMS[\"architecture\"]}_fold_{fold}_denoise.pth'\n",
        "    best_val = 0  # Best validation score within this fold\n",
        "    patience = PARAMS['es_patience']  # Current patience counter\n",
        "\n",
        "    if 'resnet' in PARAMS['architecture'] or 'resnext' in PARAMS['architecture']:\n",
        "        arch = getattr(torchvision.models, PARAMS['architecture'])(pretrained=True)\n",
        "    elif 'efficientnet' in PARAMS['architecture']:\n",
        "        arch = EfficientNet.from_pretrained(PARAMS['architecture'])\n",
        "    model = Net(arch=arch, out_features=5)\n",
        "\n",
        "    model = model.to(device)\n",
        "    optim = torch.optim.Adam(model.parameters(), lr=PARAMS['learning_rate'])\n",
        "    scheduler = ReduceLROnPlateau(optimizer=optim, mode='max', patience=1, verbose=True, factor=PARAMS['reduce_lr_factor'])\n",
        "    criterion = nn.CrossEntropyLoss()\n",
        "    \n",
        "    train = LeafDataset(df=train_df.iloc[train_idx].reset_index(drop=True),\n",
        "                       imfolder=data_folder, \n",
        "                       train=True,\n",
        "                       transforms=train_transform)\n",
        "    val = LeafDataset(df=train_df.iloc[val_idx].reset_index(drop=True),\n",
        "                       imfolder=data_folder, \n",
        "                       train=True,\n",
        "                       transforms=test_transform)\n",
        "    \n",
        "    train_loader = DataLoader(dataset=train, batch_size=PARAMS['batch_size'], shuffle=True, num_workers=24)\n",
        "    val_loader = DataLoader(dataset=val, batch_size=8, shuffle=False, num_workers=24)\n",
        "    \n",
        "    for epoch in range(PARAMS['epochs']):\n",
        "        start_time = time.time()\n",
        "        correct = 0\n",
        "        epoch_loss = 0\n",
        "        model.train()\n",
        "        \n",
        "        for x, y in train_loader:\n",
        "            x = torch.tensor(x, device=device, dtype=torch.float32)\n",
        "            y = torch.tensor(y, device=device, dtype=torch.long)\n",
        "            optim.zero_grad()\n",
        "            z = model(x)\n",
        "            loss = criterion(z, y)\n",
        "            loss.backward()\n",
        "            optim.step()\n",
        "            pred = torch.argmax(z, axis=1)\n",
        "            correct += (pred.cpu() == y.cpu()).sum().item()\n",
        "            epoch_loss += loss.item()\n",
        "        train_acc = correct / len(train_idx)  # Train accuracy\n",
        "        \n",
        "        model.eval()  # switch model to the evaluation mode\n",
        "        val_preds = torch.zeros((len(val_idx), 1), dtype=torch.long, device=device)\n",
        "        with torch.no_grad():  # Do not calculate gradient since we are only predicting\n",
        "            for j, (x_val, y_val) in enumerate(val_loader):\n",
        "                x_val = torch.tensor(x_val, device=device, dtype=torch.float32)\n",
        "                y_val = torch.tensor(y_val, device=device, dtype=torch.long)\n",
        "                z_val = model(x_val)\n",
        "                val_pred = torch.argmax(z_val, axis=1)\n",
        "                val_preds[j*val_loader.batch_size:j*val_loader.batch_size + x_val.shape[0]] = val_pred.reshape(-1, 1)\n",
        "            val_acc = accuracy_score(train_df.iloc[val_idx]['label'].values, val_preds.cpu())\n",
        "            train_time = str(datetime.timedelta(seconds=time.time() - start_time))[:7]\n",
        "            train_losses[fold].append(epoch_loss)\n",
        "            train_accs[fold].append(train_acc)\n",
        "            val_accs[fold].append(val_acc)\n",
        "            print(f'[{train_time}] | Epoch: {epoch+1:03} | Loss: {epoch_loss:.4f} | Train acc: {train_acc:.4f} | Val acc: {val_acc:.4f}')\n",
        "            scheduler.step(val_acc)\n",
        "            \n",
        "            if val_acc >= best_val:\n",
        "                best_val= val_acc\n",
        "                patience = PARAMS['es_patience']\n",
        "                torch.save(model, model_path)\n",
        "            else:\n",
        "                patience -= 1\n",
        "                if patience == 0:\n",
        "                    print(f'Early stopping. Best Val accuracy: {best_val:.4f}')\n",
        "                    break\n",
        "\n",
        "    model = torch.load(model_path)\n",
        "    model.eval()\n",
        "    val_preds = torch.zeros((len(val_idx), 5), dtype=torch.float32, device=device)\n",
        "    with torch.no_grad():\n",
        "        for j, (x_val, y_val) in enumerate(val_loader):\n",
        "            x_val = torch.tensor(x_val, device=device, dtype=torch.float32)\n",
        "            y_val = torch.tensor(y_val, device=device, dtype=torch.long)\n",
        "            z_val = model(x_val)\n",
        "            val_pred = torch.softmax(z_val, axis=1)\n",
        "            val_preds[j*val_loader.batch_size:j*val_loader.batch_size + x_val.shape[0]] += val_pred\n",
        "        oof[val_idx] += val_preds.cpu().numpy()"
      ],
      "execution_count": null,
      "outputs": [
        {
          "output_type": "stream",
          "text": [
            "==================== Fold 3 ====================\n",
            "Loaded pretrained weights for efficientnet-b3\n",
            "[0:14:43] | Epoch: 001 | Loss: 2275.8049 | Train acc: 0.8390 | Val acc: 0.8654\n",
            "[0:14:42] | Epoch: 002 | Loss: 2017.7089 | Train acc: 0.8821 | Val acc: 0.8603\n",
            "[0:14:39] | Epoch: 003 | Loss: 1939.5625 | Train acc: 0.8942 | Val acc: 0.8840\n",
            "[0:14:36] | Epoch: 004 | Loss: 1884.1500 | Train acc: 0.9068 | Val acc: 0.8618\n",
            "[0:14:26] | Epoch: 005 | Loss: 1820.1304 | Train acc: 0.9170 | Val acc: 0.8838\n",
            "Epoch     5: reducing learning rate of group 0 to 2.0000e-05.\n",
            "[0:14:22] | Epoch: 006 | Loss: 1673.2708 | Train acc: 0.9431 | Val acc: 0.8836\n",
            "[0:14:12] | Epoch: 007 | Loss: 1629.0917 | Train acc: 0.9498 | Val acc: 0.8863\n",
            "[0:14:23] | Epoch: 008 | Loss: 1595.9811 | Train acc: 0.9572 | Val acc: 0.8821\n",
            "[0:14:35] | Epoch: 009 | Loss: 1566.3581 | Train acc: 0.9625 | Val acc: 0.8857\n",
            "Epoch     9: reducing learning rate of group 0 to 2.0000e-06.\n",
            "[0:14:36] | Epoch: 010 | Loss: 1547.5371 | Train acc: 0.9656 | Val acc: 0.8845\n",
            "[0:14:31] | Epoch: 011 | Loss: 1542.0921 | Train acc: 0.9665 | Val acc: 0.8844\n",
            "Epoch    11: reducing learning rate of group 0 to 2.0000e-07.\n",
            "[0:14:28] | Epoch: 012 | Loss: 1537.3656 | Train acc: 0.9671 | Val acc: 0.8847\n",
            "Early stopping. Best Val accuracy: 0.8863\n"
          ],
          "name": "stdout"
        }
      ]
    },
    {
      "cell_type": "code",
      "metadata": {
        "id": "Qk3FRZQGQhHE"
      },
      "source": [
        "pd.DataFrame(oof).to_csv(f'oof_{PARAMS[\"fold_number\"]}.csv', index=False)"
      ],
      "execution_count": null,
      "outputs": []
    },
    {
      "cell_type": "code",
      "metadata": {
        "id": "wqLGdvoKFAnG"
      },
      "source": [
        "neptune.log_metric('Train Acc', train_acc)\n",
        "neptune.log_metric('Validation Acc', best_val)\n",
        "neptune.log_artifact(model_path)\n",
        "neptune.log_artifact(f'oof_{PARAMS[\"fold_number\"]}.csv')"
      ],
      "execution_count": null,
      "outputs": []
    },
    {
      "cell_type": "code",
      "metadata": {
        "id": "G2NrGkIAFCvA",
        "colab": {
          "base_uri": "https://localhost:8080/",
          "height": 410
        },
        "outputId": "e682f6d0-c41d-4ce6-be7f-b73a8e1a697e"
      },
      "source": [
        "fig, axes = plt.subplots(1, 1, figsize=(14, 6))\n",
        "axes.plot(train_losses[PARAMS['fold_number']], '--', label='Train loss', color='tab:blue')\n",
        "axes.grid();\n",
        "axes.legend(fontsize=12, facecolor='white', loc=7);\n",
        "axes.set_title(f'{PARAMS[\"architecture\"]}, Fold {PARAMS[\"fold_number\"]}/{PARAMS[\"folds\"]}', fontsize=16);\n",
        "axes.set_ylabel('Loss', fontsize=14);\n",
        "axes.set_xlabel('Epoch', fontsize=14);\n",
        "max_ticks = max(len(train_losses[PARAMS['fold_number']]), len(train_accs[PARAMS['fold_number']]), len(val_accs[PARAMS['fold_number']]))\n",
        "axes.set_xticks(range(max_ticks));\n",
        "axes.set_xticklabels(range(1, max_ticks+1));\n",
        "axes2 = axes.twinx()\n",
        "axes2.plot(np.array(val_accs[PARAMS['fold_number']]).argmax(), max(val_accs[PARAMS['fold_number']]), marker='o', markersize=12, color='tab:red')\n",
        "axes2.plot(train_accs[PARAMS['fold_number']], label='Train accuracy', color='tab:orange')\n",
        "axes2.plot(val_accs[PARAMS['fold_number']], label='Validation accuracy', color='tab:red')\n",
        "axes2.legend(fontsize=12, facecolor='white');\n",
        "axes2.set_ylabel('Accuracy', fontsize=14);\n",
        "fig.savefig(f'{PARAMS[\"architecture\"]}, Fold {PARAMS[\"fold_number\"]}_loss_curv.png')\n",
        "neptune.send_image('loss_curve', f'{PARAMS[\"architecture\"]}, Fold {PARAMS[\"fold_number\"]}_loss_curv.png')"
      ],
      "execution_count": null,
      "outputs": [
        {
          "output_type": "display_data",
          "data": {
            "image/png": "[encoded data removed]",
            "text/plain": [
              "<Figure size 1008x432 with 2 Axes>"
            ]
          },
          "metadata": {
            "tags": [],
            "needs_background": "light"
          }
        }
      ]
    },
    {
      "cell_type": "code",
      "metadata": {
        "id": "wc_IPfzxD60N"
      },
      "source": [
        "import re\n",
        "import json\n",
        "import requests\n",
        "import ipykernel\n",
        "from notebook.notebookapp import list_running_servers\n",
        "from requests.compat import urljoin\n",
        "\n",
        "def get_notebook_name():\n",
        "    \"\"\"\n",
        "    Return the full path of the jupyter notebook.\n",
        "    \"\"\"\n",
        "    kernel_id = re.search('kernel-(.*).json', ipykernel.connect.get_connection_file()).group(1)\n",
        "    servers = list_running_servers()\n",
        "    for ss in servers:\n",
        "        response = requests.get(urljoin(ss['url'], 'api/sessions'), params={'token': ss.get('token', '')})\n",
        "        for nn in response.json():\n",
        "            if nn['kernel']['id'] == kernel_id:\n",
        "                notebook_name = nn['notebook']['name']\n",
        "                return notebook_name"
      ],
      "execution_count": null,
      "outputs": []
    },
    {
      "cell_type": "code",
      "metadata": {
        "id": "pZs8hkRuvcMk"
      },
      "source": [
        "neptune.log_artifact(f'/content/drive/My Drive/Colab Notebooks/{get_notebook_name()}')\n",
        "neptune.stop()"
      ],
      "execution_count": null,
      "outputs": []
    }
  ]
}